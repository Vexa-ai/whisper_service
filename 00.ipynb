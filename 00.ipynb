{
 "cells": [
  {
   "cell_type": "code",
   "execution_count": 1,
   "metadata": {},
   "outputs": [
    {
     "name": "stderr",
     "output_type": "stream",
     "text": [
      "/usr/local/lib/python3.10/dist-packages/tqdm/auto.py:21: TqdmWarning: IProgress not found. Please update jupyter and ipywidgets. See https://ipywidgets.readthedocs.io/en/stable/user_install.html\n",
      "  from .autonotebook import tqdm as notebook_tqdm\n",
      "2025-02-18 11:56:51,419\tINFO util.py:154 -- Missing packages: ['ipywidgets']. Run `pip install -U ipywidgets`, then restart the notebook server for rich notebook output.\n"
     ]
    }
   ],
   "source": [
    "import ray\n",
    "from ray import serve\n",
    "from starlette.requests import Request\n",
    "from fastapi import FastAPI, File, HTTPException, Security, Depends\n",
    "from fastapi.security import HTTPAuthorizationCredentials, HTTPBearer\n",
    "from faster_whisper import WhisperModel\n",
    "import os\n",
    "import io\n",
    "import logging\n",
    "import time\n",
    "from logging.handlers import RotatingFileHandler"
   ]
  },
  {
   "cell_type": "code",
   "execution_count": 2,
   "metadata": {},
   "outputs": [],
   "source": [
    "model = WhisperModel(\n",
    "            'large-v3',\n",
    "            device='cuda',\n",
    "            compute_type='float16',\n",
    "        )"
   ]
  },
  {
   "cell_type": "code",
   "execution_count": 3,
   "metadata": {},
   "outputs": [],
   "source": [
    "initial_prompt = 'pay attention on the following words: vexa'"
   ]
  },
  {
   "cell_type": "code",
   "execution_count": 5,
   "metadata": {},
   "outputs": [],
   "source": [
    "initial_prompt = None\n",
    "prefix = None"
   ]
  },
  {
   "cell_type": "code",
   "execution_count": 41,
   "metadata": {},
   "outputs": [],
   "source": [
    "prefix = 'привет,'"
   ]
  },
  {
   "cell_type": "code",
   "execution_count": null,
   "metadata": {},
   "outputs": [],
   "source": []
  },
  {
   "cell_type": "code",
   "execution_count": 42,
   "metadata": {},
   "outputs": [],
   "source": [
    "result,_ = model.transcribe('app/test_audio.webm',initial_prompt=initial_prompt,prefix=prefix,task='transcribe',language='ru')"
   ]
  },
  {
   "cell_type": "code",
   "execution_count": 43,
   "metadata": {},
   "outputs": [
    {
     "data": {
      "text/plain": [
       "TranscriptionInfo(language='ru', language_probability=1, duration=314.88, duration_after_vad=314.88, all_language_probs=None, transcription_options=TranscriptionOptions(beam_size=5, best_of=5, patience=1, length_penalty=1, repetition_penalty=1, no_repeat_ngram_size=0, log_prob_threshold=-1.0, no_speech_threshold=0.6, compression_ratio_threshold=2.4, condition_on_previous_text=True, prompt_reset_on_temperature=0.5, temperatures=[0.0, 0.2, 0.4, 0.6, 0.8, 1.0], initial_prompt=None, prefix='привет,', suppress_blank=True, suppress_tokens=[-1], without_timestamps=False, max_initial_timestamp=1.0, word_timestamps=False, prepend_punctuations='\"\\'“¿([{-', append_punctuations='\"\\'.。,，!！?？:：”)]}、'), vad_options=None)"
      ]
     },
     "execution_count": 43,
     "metadata": {},
     "output_type": "execute_result"
    }
   ],
   "source": [
    "_"
   ]
  },
  {
   "cell_type": "code",
   "execution_count": 44,
   "metadata": {},
   "outputs": [],
   "source": [
    "transcribe_list = list(result)\n"
   ]
  },
  {
   "cell_type": "code",
   "execution_count": 45,
   "metadata": {},
   "outputs": [
    {
     "data": {
      "text/plain": [
       "[Segment(id=1, seek=2294, start=0.0, end=10.32, text=' привет, Роза, вы смогли прийти, добро пожаловать, это хорошо, спасибо за то, что вы здесь,', tokens=[50365, 33879, 11, 6325, 3434, 386, 11, 2840, 32139, 1675, 5082, 1644, 3396, 11, 16991, 9938, 713, 18327, 14069, 11, 2691, 16977, 11, 37536, 4396, 4572, 11, 2143, 2840, 9087, 11, 50881], temperature=0.0, avg_logprob=-0.4306469340073435, compression_ratio=1.5914634146341464, no_speech_prob=0.1939697265625, words=None),\n",
       " Segment(id=2, seek=2294, start=10.32, end=15.92, text=' так что это Санкт-Петербург,', tokens=[50881, 2936, 2143, 2691, 2933, 1416, 42964, 12, 9223, 1094, 41934, 7489, 1906, 11, 51161], temperature=0.0, avg_logprob=-0.4306469340073435, compression_ratio=1.5914634146341464, no_speech_prob=0.1939697265625, words=None),\n",
       " Segment(id=3, seek=2294, start=15.92, end=22.94, text=' давайте посмотрим, кто еще,', tokens=[51161, 30412, 42293, 11, 12278, 9910, 11, 51512], temperature=0.0, avg_logprob=-0.4306469340073435, compression_ratio=1.5914634146341464, no_speech_prob=0.1939697265625, words=None),\n",
       " Segment(id=4, seek=5292, start=22.94, end=37.1, text=' мы имеем Суперриор,', tokens=[50365, 4777, 19539, 1504, 2933, 6907, 1135, 4679, 1717, 11, 51073], temperature=0.0, avg_logprob=-0.5312500119209289, compression_ratio=1.22, no_speech_prob=0.064453125, words=None),\n",
       " Segment(id=5, seek=5292, start=37.1, end=39.18000000000001, text=' Колорадо,', tokens=[51073, 45363, 1717, 2601, 354, 11, 51177], temperature=0.0, avg_logprob=-0.5312500119209289, compression_ratio=1.22, no_speech_prob=0.064453125, words=None),\n",
       " Segment(id=6, seek=5292, start=39.18000000000001, end=51.08, text=' Мануэль, если вы можете,', tokens=[51177, 3493, 1416, 585, 7570, 6762, 11, 8042, 2840, 23578, 11, 51772], temperature=0.0, avg_logprob=-0.5312500119209289, compression_ratio=1.22, no_speech_prob=0.064453125, words=None),\n",
       " Segment(id=7, seek=5292, start=51.08, end=52.92, text=' просто влоги,', tokens=[51772, 8221, 740, 693, 2353, 435, 11, 51864], temperature=0.0, avg_logprob=-0.5312500119209289, compression_ratio=1.22, no_speech_prob=0.064453125, words=None),\n",
       " Segment(id=8, seek=8292, start=52.92, end=55.160000000000004, text=' видео, чтобы я смогла вас видеть в видео,', tokens=[50365, 15589, 11, 7887, 2552, 32139, 4989, 10655, 6504, 9108, 740, 15589, 11, 50477], temperature=0.0, avg_logprob=-0.6924019683809841, compression_ratio=2.135514018691589, no_speech_prob=0.0076904296875, words=None),\n",
       " Segment(id=9, seek=8292, start=59.88, end=61.160000000000004, text=' главный экран, пожалуйста,', tokens=[50713, 18539, 4441, 41643, 11, 32518, 11, 50777], temperature=0.0, avg_logprob=-0.6924019683809841, compression_ratio=2.135514018691589, no_speech_prob=0.0076904296875, words=None),\n",
       " Segment(id=10, seek=8292, start=65.8, end=66.28, text=' о, привет,', tokens=[51009, 1000, 11, 33879, 11, 51033], temperature=0.0, avg_logprob=-0.6924019683809841, compression_ratio=2.135514018691589, no_speech_prob=0.0076904296875, words=None),\n",
       " Segment(id=11, seek=8292, start=67.16, end=67.56, text=' привет,', tokens=[51077, 33879, 11, 51097], temperature=0.0, avg_logprob=-0.6924019683809841, compression_ratio=2.135514018691589, no_speech_prob=0.0076904296875, words=None),\n",
       " Segment(id=12, seek=8292, start=68.92, end=69.4, text=' привет,', tokens=[51165, 33879, 11, 51189], temperature=0.0, avg_logprob=-0.6924019683809841, compression_ratio=2.135514018691589, no_speech_prob=0.0076904296875, words=None),\n",
       " Segment(id=13, seek=8292, start=70.44, end=71.4, text=' привет, доброе утро,', tokens=[51241, 33879, 11, 35620, 5805, 25448, 9938, 11, 51289], temperature=0.0, avg_logprob=-0.6924019683809841, compression_ratio=2.135514018691589, no_speech_prob=0.0076904296875, words=None),\n",
       " Segment(id=14, seek=8292, start=71.4, end=72.84, text=' я вижу, что ваша мама не может,', tokens=[51289, 2552, 47813, 11, 2143, 14536, 386, 47101, 1725, 8689, 11, 51361], temperature=0.0, avg_logprob=-0.6924019683809841, compression_ratio=2.135514018691589, no_speech_prob=0.0076904296875, words=None),\n",
       " Segment(id=15, seek=8292, start=72.84, end=75.88, text=' нет, ваша, я не хочу видеть цвет, что она видит,', tokens=[51361, 9916, 11, 14536, 386, 11, 2552, 1725, 22168, 6504, 9108, 24937, 11, 2143, 8826, 6504, 1635, 11, 51513], temperature=0.0, avg_logprob=-0.6924019683809841, compression_ratio=2.135514018691589, no_speech_prob=0.0076904296875, words=None),\n",
       " Segment(id=16, seek=8292, start=77.16, end=78.44, text=' это красный,', tokens=[51577, 2691, 15826, 4441, 11, 51641], temperature=0.0, avg_logprob=-0.6924019683809841, compression_ratio=2.135514018691589, no_speech_prob=0.0076904296875, words=None),\n",
       " Segment(id=17, seek=8292, start=78.44, end=79.88, text=' я люблю красный,', tokens=[51641, 2552, 44683, 15826, 4441, 11, 51713], temperature=0.0, avg_logprob=-0.6924019683809841, compression_ratio=2.135514018691589, no_speech_prob=0.0076904296875, words=None),\n",
       " Segment(id=18, seek=8292, start=80.52000000000001, end=82.36, text=' я думаю, что в следующем встрече,', tokens=[51745, 2552, 23479, 11, 2143, 740, 26045, 1504, 25669, 387, 11, 51837], temperature=0.0, avg_logprob=-0.6924019683809841, compression_ratio=2.135514018691589, no_speech_prob=0.0076904296875, words=None),\n",
       " Segment(id=19, seek=11188, start=82.92, end=84.92, text=' я буду видеть, какой цвет,', tokens=[50365, 2552, 21407, 6504, 9108, 11, 16898, 24937, 11, 50465], temperature=0.0, avg_logprob=-0.4401676685708325, compression_ratio=2.3843648208469057, no_speech_prob=0.006191253662109375, words=None),\n",
       " Segment(id=20, seek=11188, start=84.92, end=86.92, text=' о, боже мой, я люблю, как всегда, смотря на вас,', tokens=[50465, 1000, 11, 1268, 9292, 23400, 11, 2552, 44683, 11, 3014, 19087, 11, 17726, 681, 1470, 10655, 11, 50565], temperature=0.0, avg_logprob=-0.4401676685708325, compression_ratio=2.3843648208469057, no_speech_prob=0.006191253662109375, words=None),\n",
       " Segment(id=21, seek=11188, start=86.92, end=88.92, text=' вы можете изменить свои волосы,', tokens=[50565, 2840, 23578, 3943, 919, 44436, 25375, 22211, 1885, 698, 11, 50665], temperature=0.0, avg_logprob=-0.4401676685708325, compression_ratio=2.3843648208469057, no_speech_prob=0.006191253662109375, words=None),\n",
       " Segment(id=22, seek=11188, start=88.92, end=90.92, text=' потому что я знаю, что вы всегда изменили свои волосы,', tokens=[50665, 11919, 2143, 2552, 16315, 11, 2143, 2840, 19087, 3943, 919, 2495, 1675, 25375, 22211, 1885, 698, 11, 50765], temperature=0.0, avg_logprob=-0.4401676685708325, compression_ratio=2.3843648208469057, no_speech_prob=0.006191253662109375, words=None),\n",
       " Segment(id=23, seek=11188, start=90.92, end=92.92, text=' супер красиво,', tokens=[50765, 32453, 1135, 26679, 354, 11, 50865], temperature=0.0, avg_logprob=-0.4401676685708325, compression_ratio=2.3843648208469057, no_speech_prob=0.006191253662109375, words=None),\n",
       " Segment(id=24, seek=11188, start=92.92, end=96.92, text=' о, боже мой, посмотрите на собаку,', tokens=[50865, 1000, 11, 1268, 9292, 23400, 11, 19240, 5878, 1470, 10450, 1272, 585, 11, 51065], temperature=0.0, avg_logprob=-0.4401676685708325, compression_ratio=2.3843648208469057, no_speech_prob=0.006191253662109375, words=None),\n",
       " Segment(id=25, seek=11188, start=96.92, end=98.92, text=' это наш новый семейный человек,', tokens=[51065, 2691, 8253, 38121, 20933, 2345, 4441, 11326, 11, 51165], temperature=0.0, avg_logprob=-0.4401676685708325, compression_ratio=2.3843648208469057, no_speech_prob=0.006191253662109375, words=None),\n",
       " Segment(id=26, seek=11188, start=98.92, end=102.92, text=' о, это невероятно, о, это новое,', tokens=[51165, 1000, 11, 2691, 21224, 21146, 19005, 11, 1000, 11, 2691, 10022, 5805, 11, 51365], temperature=0.0, avg_logprob=-0.4401676685708325, compression_ratio=2.3843648208469057, no_speech_prob=0.006191253662109375, words=None),\n",
       " Segment(id=27, seek=11188, start=102.92, end=104.92, text=' хорошо, так что,', tokens=[51365, 16977, 11, 2936, 2143, 11, 51465], temperature=0.0, avg_logprob=-0.4401676685708325, compression_ratio=2.3843648208469057, no_speech_prob=0.006191253662109375, words=None),\n",
       " Segment(id=28, seek=11188, start=104.92, end=106.92, text=' хорошо, я вижу много людей,', tokens=[51465, 16977, 11, 2552, 47813, 13347, 16810, 11, 51565], temperature=0.0, avg_logprob=-0.4401676685708325, compression_ratio=2.3843648208469057, no_speech_prob=0.006191253662109375, words=None),\n",
       " Segment(id=29, seek=11188, start=106.92, end=108.92, text=' которые приходят и выходят, я не знаю, почему,', tokens=[51565, 10381, 26641, 4558, 1006, 27142, 4558, 11, 2552, 1725, 16315, 11, 21513, 11, 51665], temperature=0.0, avg_logprob=-0.4401676685708325, compression_ratio=2.3843648208469057, no_speech_prob=0.006191253662109375, words=None),\n",
       " Segment(id=30, seek=11188, start=108.92, end=110.92, text=' Габи,', tokens=[51665, 7247, 3771, 435, 11, 51765], temperature=0.0, avg_logprob=-0.4401676685708325, compression_ratio=2.3843648208469057, no_speech_prob=0.006191253662109375, words=None),\n",
       " Segment(id=31, seek=11188, start=110.92, end=111.88, text=' я не знаю, почему, Габи, я не знаю, почему,', tokens=[51765, 2552, 1725, 16315, 11, 21513, 11, 7247, 3771, 435, 11, 2552, 1725, 16315, 11, 21513, 11, 51813], temperature=0.0, avg_logprob=-0.4401676685708325, compression_ratio=2.3843648208469057, no_speech_prob=0.006191253662109375, words=None),\n",
       " Segment(id=32, seek=14188, start=111.88, end=113.88, text=' поэтому movement', tokens=[50365, 19698, 3963, 50465], temperature=1.0, avg_logprob=-3.376533744681595, compression_ratio=1.6101694915254237, no_speech_prob=0.034576416015625, words=None),\n",
       " Segment(id=33, seek=14188, start=113.88, end=115.88, text=' сейчас приходит,', tokens=[50465, 10241, 26641, 1635, 11, 50565], temperature=1.0, avg_logprob=-3.376533744681595, compression_ratio=1.6101694915254237, no_speech_prob=0.034576416015625, words=None),\n",
       " Segment(id=34, seek=14188, start=115.88, end=117.88, text=' знаете,', tokens=[50565, 29868, 11, 50665], temperature=1.0, avg_logprob=-3.376533744681595, compression_ratio=1.6101694915254237, no_speech_prob=0.034576416015625, words=None),\n",
       " Segment(id=35, seek=14188, start=117.88, end=119.88, text=' это Я Rings,', tokens=[50665, 2691, 4857, 38543, 11, 50765], temperature=1.0, avg_logprob=-3.376533744681595, compression_ratio=1.6101694915254237, no_speech_prob=0.034576416015625, words=None),\n",
       " Segment(id=36, seek=14188, start=119.88, end=121.88, text=' я не знаю, почему,', tokens=[50765, 2552, 1725, 16315, 11, 21513, 11, 50865], temperature=1.0, avg_logprob=-3.376533744681595, compression_ratio=1.6101694915254237, no_speech_prob=0.034576416015625, words=None),\n",
       " Segment(id=37, seek=14188, start=121.88, end=123.88, text=' но почему оно всегдаùng?', tokens=[50865, 6035, 21513, 25369, 19087, 27065, 30, 50965], temperature=1.0, avg_logprob=-3.376533744681595, compression_ratio=1.6101694915254237, no_speech_prob=0.034576416015625, words=None),\n",
       " Segment(id=38, seek=14188, start=123.88, end=125.88, text=' Оно подорвалось,', tokens=[50965, 3688, 1234, 4095, 1717, 859, 16122, 11, 51065], temperature=1.0, avg_logprob=-3.376533744681595, compression_ratio=1.6101694915254237, no_speech_prob=0.034576416015625, words=None),\n",
       " Segment(id=39, seek=14188, start=125.88, end=127.56, text=' у меня была одна участница,', tokens=[51065, 1595, 6885, 13640, 26985, 40970, 37267, 11, 51149], temperature=1.0, avg_logprob=-3.376533744681595, compression_ratio=1.6101694915254237, no_speech_prob=0.034576416015625, words=None),\n",
       " Segment(id=40, seek=14188, start=127.56, end=129.07999999999998, text=' у меня были полинарная девочка,', tokens=[51149, 1595, 6885, 14355, 4692, 7861, 481, 6323, 20572, 29576, 11, 51225], temperature=1.0, avg_logprob=-3.376533744681595, compression_ratio=1.6101694915254237, no_speech_prob=0.034576416015625, words=None),\n",
       " Segment(id=41, seek=14188, start=129.07999999999998, end=131.64, text=' она моя папа.', tokens=[51225, 8826, 33691, 39322, 386, 13, 51353], temperature=1.0, avg_logprob=-3.376533744681595, compression_ratio=1.6101694915254237, no_speech_prob=0.034576416015625, words=None),\n",
       " Segment(id=42, seek=14188, start=131.64, end=132.51999999999998, text=' Моя fingerprints,', tokens=[51353, 3493, 354, 681, 42170, 11, 51397], temperature=1.0, avg_logprob=-3.376533744681595, compression_ratio=1.6101694915254237, no_speech_prob=0.034576416015625, words=None),\n",
       " Segment(id=43, seek=14188, start=132.51999999999998, end=133.2, text=' потому', tokens=[51397, 11919, 51431], temperature=1.0, avg_logprob=-3.376533744681595, compression_ratio=1.6101694915254237, no_speech_prob=0.034576416015625, words=None),\n",
       " Segment(id=44, seek=14188, start=133.2, end=135.16, text=' mails,', tokens=[51431, 463, 4174, 11, 51529], temperature=1.0, avg_logprob=-3.376533744681595, compression_ratio=1.6101694915254237, no_speech_prob=0.034576416015625, words=None),\n",
       " Segment(id=45, seek=14188, start=135.9, end=138.68, text=' так что я думаю, что вамغ имеет', tokens=[51566, 2936, 2143, 2552, 23479, 11, 2143, 10448, 17082, 33761, 51705], temperature=1.0, avg_logprob=-3.376533744681595, compression_ratio=1.6101694915254237, no_speech_prob=0.034576416015625, words=None),\n",
       " Segment(id=46, seek=14188, start=138.68, end=139.78, text='ㅎㅎ', tokens=[51705, 23798, 51760], temperature=1.0, avg_logprob=-3.376533744681595, compression_ratio=1.6101694915254237, no_speech_prob=0.034576416015625, words=None),\n",
       " Segment(id=47, seek=14188, start=139.78, end=139.96, text=' платье продадим,', tokens=[51760, 9283, 2209, 387, 11354, 2601, 2165, 11, 51769], temperature=1.0, avg_logprob=-3.376533744681595, compression_ratio=1.6101694915254237, no_speech_prob=0.034576416015625, words=None),\n",
       " Segment(id=48, seek=14188, start=139.96, end=141.68, text=' rapidlyこれで,', tokens=[51769, 12910, 49477, 11, 51855], temperature=1.0, avg_logprob=-3.376533744681595, compression_ratio=1.6101694915254237, no_speech_prob=0.034576416015625, words=None),\n",
       " Segment(id=49, seek=17188, start=141.88, end=152.48, text=\" Oh, we're missing Wellington as well, Gabby.\", tokens=[50365, 876, 11, 321, 434, 5361, 45812, 382, 731, 11, 11995, 2322, 13, 50895], temperature=0.0, avg_logprob=-0.5908018598016703, compression_ratio=1.2616822429906542, no_speech_prob=0.1136474609375, words=None),\n",
       " Segment(id=50, seek=17188, start=154.16, end=155.94, text=' I totally forgot about Wellington.', tokens=[50979, 286, 3879, 5298, 466, 45812, 13, 51068], temperature=0.0, avg_logprob=-0.5908018598016703, compression_ratio=1.2616822429906542, no_speech_prob=0.1136474609375, words=None),\n",
       " Segment(id=51, seek=17188, start=156.44, end=156.84, text=' Yes.', tokens=[51093, 1079, 13, 51113], temperature=0.0, avg_logprob=-0.5908018598016703, compression_ratio=1.2616822429906542, no_speech_prob=0.1136474609375, words=None),\n",
       " Segment(id=52, seek=17188, start=161.35999999999999, end=162.04, text=' Corita.', tokens=[51339, 3925, 2786, 13, 51373], temperature=0.0, avg_logprob=-0.5908018598016703, compression_ratio=1.2616822429906542, no_speech_prob=0.1136474609375, words=None),\n",
       " Segment(id=53, seek=17188, start=163.85999999999999, end=165.54, text=' Emerald is here.', tokens=[51464, 18477, 3976, 307, 510, 13, 51548], temperature=0.0, avg_logprob=-0.5908018598016703, compression_ratio=1.2616822429906542, no_speech_prob=0.1136474609375, words=None),\n",
       " Segment(id=54, seek=17188, start=166.66, end=167.24, text=' Manoely.', tokens=[51604, 2458, 78, 736, 13, 51633], temperature=0.0, avg_logprob=-0.5908018598016703, compression_ratio=1.2616822429906542, no_speech_prob=0.1136474609375, words=None),\n",
       " Segment(id=55, seek=17188, start=169.64, end=170.82, text=' Manoely is here.', tokens=[51753, 2458, 78, 736, 307, 510, 13, 51812], temperature=0.0, avg_logprob=-0.5908018598016703, compression_ratio=1.2616822429906542, no_speech_prob=0.1136474609375, words=None),\n",
       " Segment(id=56, seek=20188, start=171.88, end=176.68, text=' Майя.', tokens=[50365, 3493, 3183, 681, 13, 50605], temperature=0.0, avg_logprob=-0.43526784933748697, compression_ratio=1.0185185185185186, no_speech_prob=0.0003380775451660156, words=None),\n",
       " Segment(id=57, seek=20188, start=187.68, end=189.82, text=' I think Maya dropped.', tokens=[51155, 286, 519, 21695, 8119, 13, 51262], temperature=0.0, avg_logprob=-0.43526784933748697, compression_ratio=1.0185185185185186, no_speech_prob=0.0003380775451660156, words=None),\n",
       " Segment(id=58, seek=20188, start=190.42, end=191.42, text=' Oh, there she is.', tokens=[51292, 876, 11, 456, 750, 307, 13, 51342], temperature=0.0, avg_logprob=-0.43526784933748697, compression_ratio=1.0185185185185186, no_speech_prob=0.0003380775451660156, words=None),\n",
       " Segment(id=59, seek=20188, start=191.6, end=192.9, text=' Okay, she came back on.', tokens=[51351, 1033, 11, 750, 1361, 646, 322, 13, 51416], temperature=0.0, avg_logprob=-0.43526784933748697, compression_ratio=1.0185185185185186, no_speech_prob=0.0003380775451660156, words=None),\n",
       " Segment(id=60, seek=20188, start=193.72, end=196.8, text=\" So, all we're missing is Wellington.\", tokens=[51457, 407, 11, 439, 321, 434, 5361, 307, 45812, 13, 51611], temperature=0.0, avg_logprob=-0.43526784933748697, compression_ratio=1.0185185185185186, no_speech_prob=0.0003380775451660156, words=None),\n",
       " Segment(id=61, seek=23138, start=201.88, end=206.2, text=' Форт Майярс.', tokens=[50365, 13196, 20040, 3493, 3183, 681, 481, 461, 13, 50581], temperature=0.0, avg_logprob=-0.5048491446108654, compression_ratio=1.9858156028368794, no_speech_prob=0.009368896484375, words=None),\n",
       " Segment(id=62, seek=23138, start=212.44, end=213.56, text=' And Round Rock.', tokens=[50893, 400, 18525, 6922, 13, 50949], temperature=0.0, avg_logprob=-0.5048491446108654, compression_ratio=1.9858156028368794, no_speech_prob=0.009368896484375, words=None),\n",
       " Segment(id=63, seek=23138, start=214.06, end=219.07999999999998, text=\" So, if you can message them really quick, if they're going to come in so we can start.\", tokens=[50974, 407, 11, 498, 291, 393, 3636, 552, 534, 1702, 11, 498, 436, 434, 516, 281, 808, 294, 370, 321, 393, 722, 13, 51225], temperature=0.0, avg_logprob=-0.5048491446108654, compression_ratio=1.9858156028368794, no_speech_prob=0.009368896484375, words=None),\n",
       " Segment(id=64, seek=23138, start=219.07999999999998, end=219.35999999999999, text=' I am.', tokens=[51225, 286, 669, 13, 51239], temperature=0.0, avg_logprob=-0.5048491446108654, compression_ratio=1.9858156028368794, no_speech_prob=0.009368896484375, words=None),\n",
       " Segment(id=65, seek=23138, start=219.9, end=220.22, text=' Okay.', tokens=[51266, 1033, 13, 51282], temperature=0.0, avg_logprob=-0.5048491446108654, compression_ratio=1.9858156028368794, no_speech_prob=0.009368896484375, words=None),\n",
       " Segment(id=66, seek=23138, start=220.22, end=220.78, text=' Thank you.', tokens=[51282, 1044, 291, 13, 51310], temperature=0.0, avg_logprob=-0.5048491446108654, compression_ratio=1.9858156028368794, no_speech_prob=0.009368896484375, words=None),\n",
       " Segment(id=67, seek=23138, start=220.78, end=220.84, text=' Thank you.', tokens=[51310, 1044, 291, 13, 51313], temperature=0.0, avg_logprob=-0.5048491446108654, compression_ratio=1.9858156028368794, no_speech_prob=0.009368896484375, words=None),\n",
       " Segment(id=68, seek=23138, start=220.84, end=221.84, text=' Thank you.', tokens=[51313, 1044, 291, 13, 51363], temperature=0.0, avg_logprob=-0.5048491446108654, compression_ratio=1.9858156028368794, no_speech_prob=0.009368896484375, words=None),\n",
       " Segment(id=69, seek=23138, start=221.84, end=222.84, text=' Thank you.', tokens=[51363, 1044, 291, 13, 51413], temperature=0.0, avg_logprob=-0.5048491446108654, compression_ratio=1.9858156028368794, no_speech_prob=0.009368896484375, words=None),\n",
       " Segment(id=70, seek=23138, start=222.84, end=223.84, text=' Thank you.', tokens=[51413, 1044, 291, 13, 51463], temperature=0.0, avg_logprob=-0.5048491446108654, compression_ratio=1.9858156028368794, no_speech_prob=0.009368896484375, words=None),\n",
       " Segment(id=71, seek=23138, start=223.84, end=224.84, text=' Thank you.', tokens=[51463, 1044, 291, 13, 51513], temperature=0.0, avg_logprob=-0.5048491446108654, compression_ratio=1.9858156028368794, no_speech_prob=0.009368896484375, words=None),\n",
       " Segment(id=72, seek=23138, start=224.84, end=225.84, text=' Thank you.', tokens=[51513, 1044, 291, 13, 51563], temperature=0.0, avg_logprob=-0.5048491446108654, compression_ratio=1.9858156028368794, no_speech_prob=0.009368896484375, words=None),\n",
       " Segment(id=73, seek=23138, start=225.84, end=226.84, text=' Thank you.', tokens=[51563, 1044, 291, 13, 51613], temperature=0.0, avg_logprob=-0.5048491446108654, compression_ratio=1.9858156028368794, no_speech_prob=0.009368896484375, words=None),\n",
       " Segment(id=74, seek=23138, start=226.84, end=227.84, text=' Thank you.', tokens=[51613, 1044, 291, 13, 51663], temperature=0.0, avg_logprob=-0.5048491446108654, compression_ratio=1.9858156028368794, no_speech_prob=0.009368896484375, words=None),\n",
       " Segment(id=75, seek=23138, start=227.84, end=228.84, text=' Thank you.', tokens=[51663, 1044, 291, 13, 51713], temperature=0.0, avg_logprob=-0.5048491446108654, compression_ratio=1.9858156028368794, no_speech_prob=0.009368896484375, words=None),\n",
       " Segment(id=76, seek=23138, start=228.84, end=229.84, text=' Thank you.', tokens=[51713, 1044, 291, 13, 51763], temperature=0.0, avg_logprob=-0.5048491446108654, compression_ratio=1.9858156028368794, no_speech_prob=0.009368896484375, words=None),\n",
       " Segment(id=77, seek=23138, start=229.84, end=230.84, text=' Thank you.', tokens=[51763, 1044, 291, 13, 51813], temperature=0.0, avg_logprob=-0.5048491446108654, compression_ratio=1.9858156028368794, no_speech_prob=0.009368896484375, words=None),\n",
       " Segment(id=78, seek=23138, start=230.84, end=231.38, text=' Thank you.', tokens=[51813, 1044, 291, 13, 51840], temperature=0.0, avg_logprob=-0.5048491446108654, compression_ratio=1.9858156028368794, no_speech_prob=0.009368896484375, words=None),\n",
       " Segment(id=79, seek=26126, start=231.38, end=232.1, text=' Thank you.', tokens=[50365, 1044, 291, 13, 50401], temperature=1.0, avg_logprob=-2.1868439864467932, compression_ratio=2.0815217391304346, no_speech_prob=0.0826416015625, words=None),\n",
       " Segment(id=80, seek=26126, start=232.1, end=232.66, text=' Thank you.', tokens=[50401, 1044, 291, 13, 50429], temperature=1.0, avg_logprob=-2.1868439864467932, compression_ratio=2.0815217391304346, no_speech_prob=0.0826416015625, words=None),\n",
       " Segment(id=81, seek=26126, start=232.66, end=234.18, text=' Thank you.', tokens=[50429, 1044, 291, 13, 50505], temperature=1.0, avg_logprob=-2.1868439864467932, compression_ratio=2.0815217391304346, no_speech_prob=0.0826416015625, words=None),\n",
       " Segment(id=82, seek=26126, start=234.34, end=235.35999999999999, text=' Thank you.', tokens=[50513, 1044, 291, 13, 50564], temperature=1.0, avg_logprob=-2.1868439864467932, compression_ratio=2.0815217391304346, no_speech_prob=0.0826416015625, words=None),\n",
       " Segment(id=83, seek=26126, start=235.35999999999999, end=236.56, text=' Thank you.', tokens=[50564, 1044, 291, 13, 50624], temperature=1.0, avg_logprob=-2.1868439864467932, compression_ratio=2.0815217391304346, no_speech_prob=0.0826416015625, words=None),\n",
       " Segment(id=84, seek=26126, start=236.56, end=237.51999999999998, text=' Thank you.', tokens=[50624, 1044, 291, 13, 50672], temperature=1.0, avg_logprob=-2.1868439864467932, compression_ratio=2.0815217391304346, no_speech_prob=0.0826416015625, words=None),\n",
       " Segment(id=85, seek=26126, start=237.51999999999998, end=239.29999999999998, text=' Thank you all.', tokens=[50672, 1044, 291, 439, 13, 50761], temperature=1.0, avg_logprob=-2.1868439864467932, compression_ratio=2.0815217391304346, no_speech_prob=0.0826416015625, words=None),\n",
       " Segment(id=86, seek=26126, start=239.29999999999998, end=240.74, text=' Thank you.', tokens=[50761, 1044, 291, 13, 50833], temperature=1.0, avg_logprob=-2.1868439864467932, compression_ratio=2.0815217391304346, no_speech_prob=0.0826416015625, words=None),\n",
       " Segment(id=87, seek=26126, start=240.74, end=242.0, text=' And now, if we have SEA from here.', tokens=[50833, 400, 586, 11, 498, 321, 362, 10269, 32, 490, 510, 13, 50896], temperature=1.0, avg_logprob=-2.1868439864467932, compression_ratio=2.0815217391304346, no_speech_prob=0.0826416015625, words=None),\n",
       " Segment(id=88, seek=26126, start=242.0, end=242.57999999999998, text=' Thank you.', tokens=[50896, 1044, 291, 13, 50925], temperature=1.0, avg_logprob=-2.1868439864467932, compression_ratio=2.0815217391304346, no_speech_prob=0.0826416015625, words=None),\n",
       " Segment(id=89, seek=26126, start=242.57999999999998, end=243.54, text=' Thank you.', tokens=[50925, 1044, 291, 13, 50973], temperature=1.0, avg_logprob=-2.1868439864467932, compression_ratio=2.0815217391304346, no_speech_prob=0.0826416015625, words=None),\n",
       " Segment(id=90, seek=26126, start=243.54, end=244.92, text=' Okay, we nope.', tokens=[50973, 1033, 11, 321, 23444, 13, 51042], temperature=1.0, avg_logprob=-2.1868439864467932, compression_ratio=2.0815217391304346, no_speech_prob=0.0826416015625, words=None),\n",
       " Segment(id=91, seek=26126, start=244.92, end=245.34, text=' Thank you.', tokens=[51042, 1044, 291, 13, 51063], temperature=1.0, avg_logprob=-2.1868439864467932, compression_ratio=2.0815217391304346, no_speech_prob=0.0826416015625, words=None),\n",
       " Segment(id=92, seek=26126, start=245.34, end=246.01999999999998, text=' Okay.', tokens=[51063, 1033, 13, 51097], temperature=1.0, avg_logprob=-2.1868439864467932, compression_ratio=2.0815217391304346, no_speech_prob=0.0826416015625, words=None),\n",
       " Segment(id=93, seek=26126, start=246.01999999999998, end=246.94, text=' Okay.', tokens=[51097, 1033, 13, 51143], temperature=1.0, avg_logprob=-2.1868439864467932, compression_ratio=2.0815217391304346, no_speech_prob=0.0826416015625, words=None),\n",
       " Segment(id=94, seek=26126, start=246.94, end=248.32, text=' Okay.', tokens=[51143, 1033, 13, 51212], temperature=1.0, avg_logprob=-2.1868439864467932, compression_ratio=2.0815217391304346, no_speech_prob=0.0826416015625, words=None),\n",
       " Segment(id=95, seek=26126, start=248.32, end=251.82, text=\" Yes, that's very good.\", tokens=[51212, 1079, 11, 300, 311, 588, 665, 13, 51387], temperature=1.0, avg_logprob=-2.1868439864467932, compression_ratio=2.0815217391304346, no_speech_prob=0.0826416015625, words=None),\n",
       " Segment(id=96, seek=26126, start=251.82, end=256.34, text=' And I want to give a shout out to the Dalmatians for sharing a helpful document in its', tokens=[51387, 400, 286, 528, 281, 976, 257, 8043, 484, 281, 264, 17357, 15677, 2567, 337, 5414, 257, 4961, 4166, 294, 1080, 51613], temperature=1.0, avg_logprob=-2.1868439864467932, compression_ratio=2.0815217391304346, no_speech_prob=0.0826416015625, words=None),\n",
       " Segment(id=97, seek=26126, start=256.34, end=259.1, text=' veterans declaration on rich culture.', tokens=[51613, 14343, 27606, 322, 4593, 3713, 13, 51751], temperature=1.0, avg_logprob=-2.1868439864467932, compression_ratio=2.0815217391304346, no_speech_prob=0.0826416015625, words=None),\n",
       " Segment(id=98, seek=26126, start=259.1, end=259.88, text=' Yes, thank you.', tokens=[51751, 1079, 11, 1309, 291, 13, 51790], temperature=1.0, avg_logprob=-2.1868439864467932, compression_ratio=2.0815217391304346, no_speech_prob=0.0826416015625, words=None),\n",
       " Segment(id=99, seek=26126, start=259.88, end=260.7, text=' Yes, thank you.', tokens=[51790, 1079, 11, 1309, 291, 13, 51831], temperature=1.0, avg_logprob=-2.1868439864467932, compression_ratio=2.0815217391304346, no_speech_prob=0.0826416015625, words=None),\n",
       " Segment(id=100, seek=26126, start=260.7, end=261.26, text=' Thank you.', tokens=[51831, 1044, 291, 13, 51859], temperature=1.0, avg_logprob=-2.1868439864467932, compression_ratio=2.0815217391304346, no_speech_prob=0.0826416015625, words=None),\n",
       " Segment(id=101, seek=29126, start=261.26, end=263.62, text=' Эй, Вэлл, добро пожаловать.', tokens=[50365, 5381, 1644, 11, 2348, 7570, 693, 693, 11, 16991, 9938, 713, 18327, 14069, 13, 50483], temperature=0.0, avg_logprob=-0.38175674709113866, compression_ratio=1.7444444444444445, no_speech_prob=0.133544921875, words=None),\n",
       " Segment(id=102, seek=29126, start=266.71999999999997, end=268.34, text=' Эй, извините, девочки, я была поздно.', tokens=[50638, 5381, 1644, 11, 22599, 2599, 5878, 11, 20572, 32775, 11, 2552, 13640, 12188, 856, 1234, 13, 50719], temperature=0.0, avg_logprob=-0.38175674709113866, compression_ratio=1.7444444444444445, no_speech_prob=0.133544921875, words=None),\n",
       " Segment(id=103, seek=29126, start=269.96, end=270.78, text=' Все в порядке.', tokens=[50800, 18029, 740, 36681, 8222, 13, 50841], temperature=0.0, avg_logprob=-0.38175674709113866, compression_ratio=1.7444444444444445, no_speech_prob=0.133544921875, words=None),\n",
       " Segment(id=104, seek=29126, start=272.0, end=276.18, text=' Теперь просто Форт Майерс и Уэллингтон, пожалуйста, очень быстро.', tokens=[50902, 25238, 8221, 13196, 20040, 3493, 3183, 1135, 461, 1006, 6523, 7570, 693, 25958, 1906, 403, 1784, 11, 32518, 11, 6730, 31874, 13, 51111], temperature=0.0, avg_logprob=-0.38175674709113866, compression_ratio=1.7444444444444445, no_speech_prob=0.133544921875, words=None),\n",
       " Segment(id=105, seek=29126, start=276.65999999999997, end=277.64, text=' Если они не будут...', tokens=[51135, 12412, 7515, 1725, 20393, 485, 51184], temperature=0.0, avg_logprob=-0.38175674709113866, compression_ratio=1.7444444444444445, no_speech_prob=0.133544921875, words=None),\n",
       " Segment(id=106, seek=29126, start=277.64, end=283.94, text=' Они будут дать немного дольше, я просто начну, потому что уже 11.05, и я хотела начать в 11.05 на шарфе.', tokens=[51184, 18973, 20393, 1070, 2209, 26583, 1070, 48272, 11, 2552, 8221, 8970, 7537, 11, 11919, 2143, 7520, 2975, 13, 13328, 11, 1006, 2552, 11515, 19097, 8970, 2209, 740, 2975, 13, 13328, 1470, 5941, 2222, 3619, 387, 13, 51499], temperature=0.0, avg_logprob=-0.38175674709113866, compression_ratio=1.7444444444444445, no_speech_prob=0.133544921875, words=None),\n",
       " Segment(id=107, seek=31488, start=291.26, end=306.88, text=' Я думаю, что Карла упала, тоже.', tokens=[50365, 4857, 23479, 11, 2143, 43923, 4989, 16036, 6232, 11, 12251, 13, 51146], temperature=0.0, avg_logprob=-0.4226562629143397, compression_ratio=1.118279569892473, no_speech_prob=0.0030040740966796875, words=None),\n",
       " Segment(id=108, seek=31488, start=308.03999999999996, end=309.76, text=' Окей, Уэллингтон в порядке.', tokens=[51204, 48984, 2345, 11, 6523, 7570, 693, 25958, 1906, 403, 1784, 740, 36681, 8222, 13, 51290], temperature=0.0, avg_logprob=-0.4226562629143397, compression_ratio=1.118279569892473, no_speech_prob=0.0030040740966796875, words=None)]"
      ]
     },
     "execution_count": 45,
     "metadata": {},
     "output_type": "execute_result"
    }
   ],
   "source": [
    "transcribe_list"
   ]
  },
  {
   "cell_type": "code",
   "execution_count": 28,
   "metadata": {},
   "outputs": [
    {
     "ename": "NameError",
     "evalue": "name 'Segment' is not defined",
     "output_type": "error",
     "traceback": [
      "\u001b[0;31m---------------------------------------------------------------------------\u001b[0m",
      "\u001b[0;31mNameError\u001b[0m                                 Traceback (most recent call last)",
      "Cell \u001b[0;32mIn[28], line 1\u001b[0m\n\u001b[0;32m----> 1\u001b[0m \u001b[43mSegment\u001b[49m\n",
      "\u001b[0;31mNameError\u001b[0m: name 'Segment' is not defined"
     ]
    }
   ],
   "source": [
    "Segment"
   ]
  },
  {
   "cell_type": "code",
   "execution_count": 2,
   "metadata": {},
   "outputs": [],
   "source": [
    "\n",
    "import os\n",
    "\n",
    "os.environ[\"CUDA_VISIBLE_DEVICES\"] = \"3\"\n",
    "\n",
    "\n",
    "app = FastAPI()\n",
    "security = HTTPBearer()\n",
    "\n",
    "# Get configurations from environment variables\n",
    "API_TOKEN = os.getenv(\"WHISPER_API_TOKEN\", \"default_token_change_me\")\n",
    "MODEL_SIZE = os.getenv(\"WHISPER_MODEL_SIZE\", \"large-v3\")\n",
    "NUM_CPUS = float(os.getenv(\"WHISPER_NUM_CPUS\", \"1\"))\n",
    "NUM_GPUS = float(os.getenv(\"WHISPER_NUM_GPUS\", \"0.1\"))\n",
    "DEVICE = os.getenv(\"WHISPER_DEVICE\", \"cuda\")\n",
    "COMPUTE_TYPE = os.getenv(\"WHISPER_COMPUTE_TYPE\", \"float16\")\n",
    "BEAM_SIZE = int(os.getenv(\"WHISPER_BEAM_SIZE\", \"5\"))\n",
    "VAD_FILTER = os.getenv(\"WHISPER_VAD_FILTER\", \"True\").lower() == \"true\"\n",
    "VAD_THRESHOLD = float(os.getenv(\"WHISPER_VAD_THRESHOLD\", \"0.9\"))\n",
    "NUM_REPLICAS = os.getenv(\"NUM_REPLICAS\", \"1\")\n",
    "\n",
    "def verify_token(credentials: HTTPAuthorizationCredentials = Security(security)) -> bool:\n",
    "    if credentials.credentials != API_TOKEN:\n",
    "        raise HTTPException(\n",
    "            status_code=401,\n",
    "            detail=\"Invalid authentication token\",\n",
    "            headers={\"WWW-Authenticate\": \"Bearer\"},\n",
    "        )\n",
    "    return True\n",
    "\n",
    "@serve.deployment(num_replicas=2, ray_actor_options={\"num_cpus\": 0, \"num_gpus\": 1})\n",
    "class Transcriber:\n",
    "    def __init__(self):\n",
    "        # Set up logging\n",
    "        self.logger = logging.getLogger(\"transcriber\")\n",
    "        self.logger.setLevel(logging.INFO)\n",
    "        \n",
    "        # Clear any existing handlers\n",
    "        self.logger.handlers = []\n",
    "        \n",
    "        # Create logs directory if it doesn't exist\n",
    "        log_directory = os.path.join(os.getcwd(), 'logs')\n",
    "        os.makedirs(log_directory, exist_ok=True)\n",
    "        log_file = os.path.join(log_directory, 'transcriber.log')\n",
    "        \n",
    "        # Create a file handler with proper permissions\n",
    "        file_handler = RotatingFileHandler(\n",
    "            log_file,\n",
    "            maxBytes=10*1024*1024,  # 10MB\n",
    "            backupCount=5,\n",
    "            mode='a'\n",
    "        )\n",
    "        formatter = logging.Formatter('[%(asctime)s] %(levelname)s in %(module)s: %(message)s')\n",
    "        file_handler.setFormatter(formatter)\n",
    "        self.logger.addHandler(file_handler)\n",
    "        \n",
    "        # Also add a stream handler for console output\n",
    "        console_handler = logging.StreamHandler()\n",
    "        console_handler.setFormatter(formatter)\n",
    "        self.logger.addHandler(console_handler)\n",
    "        \n",
    "        self.logger.info(\"Initializing Transcriber service\")\n",
    "        \n",
    "        a\n",
    "        self.logger.info(f\"Initialized Whisper model: {MODEL_SIZE} on {DEVICE} with {COMPUTE_TYPE}\")\n",
    "\n",
    "    def transcribe(self, audio_bytes: bytes, request_id: str) -> dict:\n",
    "        self.logger.info(f\"[{request_id}] Starting transcription\")\n",
    "        transcribe_start = time.time()\n",
    "        segments, info = self.model.transcribe(\n",
    "            io.BytesIO(audio_bytes),\n",
    "            beam_size=BEAM_SIZE,\n",
    "            vad_filter=VAD_FILTER,\n",
    "            word_timestamps=True,\n",
    "            vad_parameters={\"threshold\": VAD_THRESHOLD},\n",
    "        )\n",
    "        transcribe_end = time.time()\n",
    "        transcribe_duration = transcribe_end - transcribe_start\n",
    "        \n",
    "        return {\n",
    "            \"segments\": segments,\n",
    "            \"timing\": {\n",
    "                \"transcribe_time_ms\": transcribe_duration * 1000,\n",
    "                \"realtime_factor\": transcribe_duration/info.duration if info.duration else 0\n",
    "            }\n",
    "        }\n",
    "\n",
    "    async def __call__(self, request: Request) -> dict:\n",
    "        # Verify authentication\n",
    "        auth_header = request.headers.get(\"Authorization\")\n",
    "        if not auth_header or auth_header.split()[1] != API_TOKEN:\n",
    "            raise HTTPException(\n",
    "                status_code=401,\n",
    "                detail=\"Invalid authentication token\",\n",
    "                headers={\"WWW-Authenticate\": \"Bearer\"},\n",
    "            )\n",
    "\n",
    "        request_id = str(time.time())\n",
    "        start_time = time.time()\n",
    "        \n",
    "        try:\n",
    "            # Read raw bytes from request body\n",
    "            self.logger.info(f\"[{request_id}] Starting request processing\")\n",
    "            audio_bytes = await request.body()\n",
    "            body_read_time = time.time()\n",
    "            audio_size = len(audio_bytes) / 1024  # Size in KB\n",
    "            \n",
    "            self.logger.info(\n",
    "                f\"[{request_id}] Read request body: {audio_size:.2f}KB in \"\n",
    "                f\"{(body_read_time - start_time)*1000:.2f}ms\"\n",
    "            )\n",
    "\n",
    "            # Get transcription\n",
    "            result = self.transcribe(audio_bytes, request_id)\n",
    "            \n",
    "            # Add timing information\n",
    "            result[\"timing\"][\"request_id\"] = request_id\n",
    "            result[\"timing\"][\"body_read_time_ms\"] = (body_read_time - start_time) * 1000\n",
    "            result[\"timing\"][\"total_time_ms\"] = (time.time() - start_time) * 1000\n",
    "            \n",
    "            self.logger.info(\n",
    "                f\"[{request_id}] Transcription completed:\\n\"\n",
    "                f\"  - Model inference time: {result['timing']['transcribe_time_ms']:.2f}ms\\n\"\n",
    "                f\"  - Total request time: {result['timing']['total_time_ms']:.2f}ms\\n\"\n",
    "                f\"  - Audio/Processing ratio: {result['timing']['realtime_factor']:.2f}x realtime\"\n",
    "            )\n",
    "            \n",
    "            return result\n",
    "            \n",
    "        except Exception as e:\n",
    "            error_time = time.time()\n",
    "            self.logger.error(\n",
    "                f\"[{request_id}] Error during transcription after \"\n",
    "                f\"{(error_time - start_time)*1000:.2f}ms: {str(e)}\"\n",
    "            )\n",
    "            raise HTTPException(status_code=500, detail=str(e))\n",
    "\n",
    "transcriber_app = Transcriber.bind()"
   ]
  },
  {
   "cell_type": "code",
   "execution_count": null,
   "metadata": {},
   "outputs": [],
   "source": []
  }
 ],
 "metadata": {
  "kernelspec": {
   "display_name": "Python 3",
   "language": "python",
   "name": "python3"
  },
  "language_info": {
   "codemirror_mode": {
    "name": "ipython",
    "version": 3
   },
   "file_extension": ".py",
   "mimetype": "text/x-python",
   "name": "python",
   "nbconvert_exporter": "python",
   "pygments_lexer": "ipython3",
   "version": "3.10.12"
  }
 },
 "nbformat": 4,
 "nbformat_minor": 2
}

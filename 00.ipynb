{
 "cells": [
  {
   "cell_type": "code",
   "execution_count": 1,
   "metadata": {},
   "outputs": [
    {
     "name": "stderr",
     "output_type": "stream",
     "text": [
      "/usr/local/lib/python3.10/dist-packages/tqdm/auto.py:21: TqdmWarning: IProgress not found. Please update jupyter and ipywidgets. See https://ipywidgets.readthedocs.io/en/stable/user_install.html\n",
      "  from .autonotebook import tqdm as notebook_tqdm\n",
      "2025-02-17 18:17:41,317\tINFO util.py:154 -- Missing packages: ['ipywidgets']. Run `pip install -U ipywidgets`, then restart the notebook server for rich notebook output.\n"
     ]
    }
   ],
   "source": [
    "import ray\n",
    "from ray import serve\n",
    "from starlette.requests import Request\n",
    "from fastapi import FastAPI, File, HTTPException, Security, Depends\n",
    "from fastapi.security import HTTPAuthorizationCredentials, HTTPBearer\n",
    "from faster_whisper import WhisperModel\n",
    "import os\n",
    "import io\n",
    "import logging\n",
    "import time\n",
    "from logging.handlers import RotatingFileHandler"
   ]
  },
  {
   "cell_type": "code",
   "execution_count": 3,
   "metadata": {},
   "outputs": [],
   "source": [
    "model = WhisperModel(\n",
    "            'large-v3',\n",
    "            device='cuda',\n",
    "            compute_type='float16',\n",
    "        )"
   ]
  },
  {
   "cell_type": "code",
   "execution_count": 28,
   "metadata": {},
   "outputs": [],
   "source": [
    "initial_prompt = 'pay attention on the following words: vexa'"
   ]
  },
  {
   "cell_type": "code",
   "execution_count": 38,
   "metadata": {},
   "outputs": [],
   "source": [
    "initial_prompt = None"
   ]
  },
  {
   "cell_type": "code",
   "execution_count": 39,
   "metadata": {},
   "outputs": [],
   "source": [
    "prefix = 'pay attention on the following words: vexa'"
   ]
  },
  {
   "cell_type": "code",
   "execution_count": 40,
   "metadata": {},
   "outputs": [],
   "source": [
    "result,_ = model.transcribe('/app/17-02-2025 18:19.mp3',initial_prompt=initial_prompt,prefix=prefix)"
   ]
  },
  {
   "cell_type": "code",
   "execution_count": 41,
   "metadata": {},
   "outputs": [],
   "source": [
    "transcribe_list = list(result)\n"
   ]
  },
  {
   "cell_type": "code",
   "execution_count": 42,
   "metadata": {},
   "outputs": [
    {
     "data": {
      "text/plain": [
       "[Segment(id=1, seek=815, start=0.0, end=7.0, text=' pay attention on the following words: vexa.ai is a SaaS solution for business', tokens=[50365, 1689, 3202, 322, 264, 3480, 2283, 25, 1241, 36852, 13, 1301, 307, 257, 49733, 3827, 337, 1606, 50715], temperature=0.0, avg_logprob=-0.3677734360098839, compression_ratio=1.013157894736842, no_speech_prob=0.019439697265625, words=None)]"
      ]
     },
     "execution_count": 42,
     "metadata": {},
     "output_type": "execute_result"
    }
   ],
   "source": [
    "transcribe_list"
   ]
  },
  {
   "cell_type": "code",
   "execution_count": 43,
   "metadata": {},
   "outputs": [
    {
     "ename": "NameError",
     "evalue": "name 'Segment' is not defined",
     "output_type": "error",
     "traceback": [
      "\u001b[0;31m---------------------------------------------------------------------------\u001b[0m",
      "\u001b[0;31mNameError\u001b[0m                                 Traceback (most recent call last)",
      "Cell \u001b[0;32mIn[43], line 1\u001b[0m\n\u001b[0;32m----> 1\u001b[0m \u001b[43mSegment\u001b[49m\n",
      "\u001b[0;31mNameError\u001b[0m: name 'Segment' is not defined"
     ]
    }
   ],
   "source": [
    "Segment"
   ]
  },
  {
   "cell_type": "code",
   "execution_count": 2,
   "metadata": {},
   "outputs": [],
   "source": [
    "\n",
    "import os\n",
    "\n",
    "os.environ[\"CUDA_VISIBLE_DEVICES\"] = \"3\"\n",
    "\n",
    "\n",
    "app = FastAPI()\n",
    "security = HTTPBearer()\n",
    "\n",
    "# Get configurations from environment variables\n",
    "API_TOKEN = os.getenv(\"WHISPER_API_TOKEN\", \"default_token_change_me\")\n",
    "MODEL_SIZE = os.getenv(\"WHISPER_MODEL_SIZE\", \"large-v3\")\n",
    "NUM_CPUS = float(os.getenv(\"WHISPER_NUM_CPUS\", \"1\"))\n",
    "NUM_GPUS = float(os.getenv(\"WHISPER_NUM_GPUS\", \"0.1\"))\n",
    "DEVICE = os.getenv(\"WHISPER_DEVICE\", \"cuda\")\n",
    "COMPUTE_TYPE = os.getenv(\"WHISPER_COMPUTE_TYPE\", \"float16\")\n",
    "BEAM_SIZE = int(os.getenv(\"WHISPER_BEAM_SIZE\", \"5\"))\n",
    "VAD_FILTER = os.getenv(\"WHISPER_VAD_FILTER\", \"True\").lower() == \"true\"\n",
    "VAD_THRESHOLD = float(os.getenv(\"WHISPER_VAD_THRESHOLD\", \"0.9\"))\n",
    "NUM_REPLICAS = os.getenv(\"NUM_REPLICAS\", \"1\")\n",
    "\n",
    "def verify_token(credentials: HTTPAuthorizationCredentials = Security(security)) -> bool:\n",
    "    if credentials.credentials != API_TOKEN:\n",
    "        raise HTTPException(\n",
    "            status_code=401,\n",
    "            detail=\"Invalid authentication token\",\n",
    "            headers={\"WWW-Authenticate\": \"Bearer\"},\n",
    "        )\n",
    "    return True\n",
    "\n",
    "@serve.deployment(num_replicas=2, ray_actor_options={\"num_cpus\": 0, \"num_gpus\": 1})\n",
    "class Transcriber:\n",
    "    def __init__(self):\n",
    "        # Set up logging\n",
    "        self.logger = logging.getLogger(\"transcriber\")\n",
    "        self.logger.setLevel(logging.INFO)\n",
    "        \n",
    "        # Clear any existing handlers\n",
    "        self.logger.handlers = []\n",
    "        \n",
    "        # Create logs directory if it doesn't exist\n",
    "        log_directory = os.path.join(os.getcwd(), 'logs')\n",
    "        os.makedirs(log_directory, exist_ok=True)\n",
    "        log_file = os.path.join(log_directory, 'transcriber.log')\n",
    "        \n",
    "        # Create a file handler with proper permissions\n",
    "        file_handler = RotatingFileHandler(\n",
    "            log_file,\n",
    "            maxBytes=10*1024*1024,  # 10MB\n",
    "            backupCount=5,\n",
    "            mode='a'\n",
    "        )\n",
    "        formatter = logging.Formatter('[%(asctime)s] %(levelname)s in %(module)s: %(message)s')\n",
    "        file_handler.setFormatter(formatter)\n",
    "        self.logger.addHandler(file_handler)\n",
    "        \n",
    "        # Also add a stream handler for console output\n",
    "        console_handler = logging.StreamHandler()\n",
    "        console_handler.setFormatter(formatter)\n",
    "        self.logger.addHandler(console_handler)\n",
    "        \n",
    "        self.logger.info(\"Initializing Transcriber service\")\n",
    "        \n",
    "        a\n",
    "        self.logger.info(f\"Initialized Whisper model: {MODEL_SIZE} on {DEVICE} with {COMPUTE_TYPE}\")\n",
    "\n",
    "    def transcribe(self, audio_bytes: bytes, request_id: str) -> dict:\n",
    "        self.logger.info(f\"[{request_id}] Starting transcription\")\n",
    "        transcribe_start = time.time()\n",
    "        segments, info = self.model.transcribe(\n",
    "            io.BytesIO(audio_bytes),\n",
    "            beam_size=BEAM_SIZE,\n",
    "            vad_filter=VAD_FILTER,\n",
    "            word_timestamps=True,\n",
    "            vad_parameters={\"threshold\": VAD_THRESHOLD},\n",
    "        )\n",
    "        transcribe_end = time.time()\n",
    "        transcribe_duration = transcribe_end - transcribe_start\n",
    "        \n",
    "        return {\n",
    "            \"segments\": segments,\n",
    "            \"timing\": {\n",
    "                \"transcribe_time_ms\": transcribe_duration * 1000,\n",
    "                \"realtime_factor\": transcribe_duration/info.duration if info.duration else 0\n",
    "            }\n",
    "        }\n",
    "\n",
    "    async def __call__(self, request: Request) -> dict:\n",
    "        # Verify authentication\n",
    "        auth_header = request.headers.get(\"Authorization\")\n",
    "        if not auth_header or auth_header.split()[1] != API_TOKEN:\n",
    "            raise HTTPException(\n",
    "                status_code=401,\n",
    "                detail=\"Invalid authentication token\",\n",
    "                headers={\"WWW-Authenticate\": \"Bearer\"},\n",
    "            )\n",
    "\n",
    "        request_id = str(time.time())\n",
    "        start_time = time.time()\n",
    "        \n",
    "        try:\n",
    "            # Read raw bytes from request body\n",
    "            self.logger.info(f\"[{request_id}] Starting request processing\")\n",
    "            audio_bytes = await request.body()\n",
    "            body_read_time = time.time()\n",
    "            audio_size = len(audio_bytes) / 1024  # Size in KB\n",
    "            \n",
    "            self.logger.info(\n",
    "                f\"[{request_id}] Read request body: {audio_size:.2f}KB in \"\n",
    "                f\"{(body_read_time - start_time)*1000:.2f}ms\"\n",
    "            )\n",
    "\n",
    "            # Get transcription\n",
    "            result = self.transcribe(audio_bytes, request_id)\n",
    "            \n",
    "            # Add timing information\n",
    "            result[\"timing\"][\"request_id\"] = request_id\n",
    "            result[\"timing\"][\"body_read_time_ms\"] = (body_read_time - start_time) * 1000\n",
    "            result[\"timing\"][\"total_time_ms\"] = (time.time() - start_time) * 1000\n",
    "            \n",
    "            self.logger.info(\n",
    "                f\"[{request_id}] Transcription completed:\\n\"\n",
    "                f\"  - Model inference time: {result['timing']['transcribe_time_ms']:.2f}ms\\n\"\n",
    "                f\"  - Total request time: {result['timing']['total_time_ms']:.2f}ms\\n\"\n",
    "                f\"  - Audio/Processing ratio: {result['timing']['realtime_factor']:.2f}x realtime\"\n",
    "            )\n",
    "            \n",
    "            return result\n",
    "            \n",
    "        except Exception as e:\n",
    "            error_time = time.time()\n",
    "            self.logger.error(\n",
    "                f\"[{request_id}] Error during transcription after \"\n",
    "                f\"{(error_time - start_time)*1000:.2f}ms: {str(e)}\"\n",
    "            )\n",
    "            raise HTTPException(status_code=500, detail=str(e))\n",
    "\n",
    "transcriber_app = Transcriber.bind()"
   ]
  },
  {
   "cell_type": "code",
   "execution_count": null,
   "metadata": {},
   "outputs": [],
   "source": []
  }
 ],
 "metadata": {
  "kernelspec": {
   "display_name": "Python 3",
   "language": "python",
   "name": "python3"
  },
  "language_info": {
   "codemirror_mode": {
    "name": "ipython",
    "version": 3
   },
   "file_extension": ".py",
   "mimetype": "text/x-python",
   "name": "python",
   "nbconvert_exporter": "python",
   "pygments_lexer": "ipython3",
   "version": "3.10.12"
  }
 },
 "nbformat": 4,
 "nbformat_minor": 2
}
